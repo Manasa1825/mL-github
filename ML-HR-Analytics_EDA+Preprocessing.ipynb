{
 "cells": [
  {
   "cell_type": "markdown",
   "metadata": {},
   "source": [
    "**1.HR-Analytics Dataset**"
   ]
  },
  {
   "cell_type": "code",
   "execution_count": 1,
   "metadata": {},
   "outputs": [],
   "source": [
    "import numpy as np\n",
    "import pandas as pd\n",
    "import matplotlib.pyplot as plt\n",
    "import seaborn as sns\n",
    "import os\n",
    "# from google.colab import drive\n",
    "from scipy import stats\n",
    "#drive.mount('/drive')"
   ]
  },
  {
   "cell_type": "markdown",
   "metadata": {},
   "source": [
    " **2.Load Dataset**"
   ]
  },
  {
   "cell_type": "code",
   "execution_count": 2,
   "metadata": {},
   "outputs": [
    {
     "data": {
      "text/html": [
       "<div>\n",
       "<style scoped>\n",
       "    .dataframe tbody tr th:only-of-type {\n",
       "        vertical-align: middle;\n",
       "    }\n",
       "\n",
       "    .dataframe tbody tr th {\n",
       "        vertical-align: top;\n",
       "    }\n",
       "\n",
       "    .dataframe thead th {\n",
       "        text-align: right;\n",
       "    }\n",
       "</style>\n",
       "<table border=\"1\" class=\"dataframe\">\n",
       "  <thead>\n",
       "    <tr style=\"text-align: right;\">\n",
       "      <th></th>\n",
       "      <th>SLNO</th>\n",
       "      <th>Candidate.Ref</th>\n",
       "      <th>DOJ.Extended</th>\n",
       "      <th>Duration.to.accept.offer</th>\n",
       "      <th>Notice.period</th>\n",
       "      <th>Offered.band</th>\n",
       "      <th>Pecent.hike.expected.in.CTC</th>\n",
       "      <th>Percent.hike.offered.in.CTC</th>\n",
       "      <th>Percent.difference.CTC</th>\n",
       "      <th>Joining.Bonus</th>\n",
       "      <th>Candidate.relocate.actual</th>\n",
       "      <th>Gender</th>\n",
       "      <th>Candidate.Source</th>\n",
       "      <th>Rex.in.Yrs</th>\n",
       "      <th>LOB</th>\n",
       "      <th>Location</th>\n",
       "      <th>Age</th>\n",
       "      <th>Status</th>\n",
       "    </tr>\n",
       "  </thead>\n",
       "  <tbody>\n",
       "    <tr>\n",
       "      <th>0</th>\n",
       "      <td>1</td>\n",
       "      <td>2110407</td>\n",
       "      <td>Yes</td>\n",
       "      <td>14</td>\n",
       "      <td>30</td>\n",
       "      <td>E2</td>\n",
       "      <td>-20.79</td>\n",
       "      <td>13.16</td>\n",
       "      <td>42.86</td>\n",
       "      <td>No</td>\n",
       "      <td>No</td>\n",
       "      <td>Female</td>\n",
       "      <td>Agency</td>\n",
       "      <td>7</td>\n",
       "      <td>ERS</td>\n",
       "      <td>Noida</td>\n",
       "      <td>34</td>\n",
       "      <td>Joined</td>\n",
       "    </tr>\n",
       "    <tr>\n",
       "      <th>1</th>\n",
       "      <td>2</td>\n",
       "      <td>2112635</td>\n",
       "      <td>No</td>\n",
       "      <td>18</td>\n",
       "      <td>30</td>\n",
       "      <td>E2</td>\n",
       "      <td>50.00</td>\n",
       "      <td>320.00</td>\n",
       "      <td>180.00</td>\n",
       "      <td>No</td>\n",
       "      <td>No</td>\n",
       "      <td>Male</td>\n",
       "      <td>Employee Referral</td>\n",
       "      <td>8</td>\n",
       "      <td>INFRA</td>\n",
       "      <td>Chennai</td>\n",
       "      <td>34</td>\n",
       "      <td>Joined</td>\n",
       "    </tr>\n",
       "  </tbody>\n",
       "</table>\n",
       "</div>"
      ],
      "text/plain": [
       "   SLNO  Candidate.Ref DOJ.Extended  Duration.to.accept.offer  Notice.period  \\\n",
       "0     1        2110407          Yes                        14             30   \n",
       "1     2        2112635           No                        18             30   \n",
       "\n",
       "  Offered.band  Pecent.hike.expected.in.CTC  Percent.hike.offered.in.CTC  \\\n",
       "0           E2                       -20.79                        13.16   \n",
       "1           E2                        50.00                       320.00   \n",
       "\n",
       "   Percent.difference.CTC Joining.Bonus Candidate.relocate.actual  Gender  \\\n",
       "0                   42.86            No                        No  Female   \n",
       "1                  180.00            No                        No    Male   \n",
       "\n",
       "    Candidate.Source  Rex.in.Yrs    LOB Location  Age  Status  \n",
       "0             Agency           7    ERS    Noida   34  Joined  \n",
       "1  Employee Referral           8  INFRA  Chennai   34  Joined  "
      ]
     },
     "execution_count": 2,
     "metadata": {},
     "output_type": "execute_result"
    }
   ],
   "source": [
    "data=pd.read_csv(\"C:\\\\Users\\\\Mahitha\\\\Downloads\\\\HR_data.csv\")\n",
    "data.head(2)"
   ]
  },
  {
   "cell_type": "markdown",
   "metadata": {},
   "source": [
    "*2.0.1 The goal is to predict the probability of the candidate joining the company*"
   ]
  },
  {
   "cell_type": "markdown",
   "metadata": {},
   "source": [
    "**3.Data**"
   ]
  },
  {
   "cell_type": "code",
   "execution_count": 3,
   "metadata": {},
   "outputs": [
    {
     "data": {
      "text/plain": [
       "(8995, 18)"
      ]
     },
     "execution_count": 3,
     "metadata": {},
     "output_type": "execute_result"
    }
   ],
   "source": [
    "data.shape"
   ]
  },
  {
   "cell_type": "code",
   "execution_count": 4,
   "metadata": {},
   "outputs": [
    {
     "data": {
      "text/plain": [
       "DOJ.Extended                 object\n",
       "Offered.band                 object\n",
       "Joining.Bonus                object\n",
       "Candidate.relocate.actual    object\n",
       "Gender                       object\n",
       "Candidate.Source             object\n",
       "LOB                          object\n",
       "Location                     object\n",
       "Status                       object\n",
       "dtype: object"
      ]
     },
     "execution_count": 4,
     "metadata": {},
     "output_type": "execute_result"
    }
   ],
   "source": [
    "data.dtypes[data.dtypes=='object'] # checking categorical type of data"
   ]
  },
  {
   "cell_type": "code",
   "execution_count": 5,
   "metadata": {},
   "outputs": [
    {
     "data": {
      "text/plain": [
       "Index(['DOJ.Extended', 'Offered.band', 'Joining.Bonus',\n",
       "       'Candidate.relocate.actual', 'Gender', 'Candidate.Source', 'LOB',\n",
       "       'Location', 'Status'],\n",
       "      dtype='object')"
      ]
     },
     "execution_count": 5,
     "metadata": {},
     "output_type": "execute_result"
    }
   ],
   "source": [
    "data.dtypes[data.dtypes=='object'].index"
   ]
  },
  {
   "cell_type": "markdown",
   "metadata": {},
   "source": [
    "**4.checking multi-collinearity(numerical data)**"
   ]
  },
  {
   "cell_type": "code",
   "execution_count": 6,
   "metadata": {},
   "outputs": [],
   "source": [
    "corr=data.corr()"
   ]
  },
  {
   "cell_type": "code",
   "execution_count": 7,
   "metadata": {},
   "outputs": [
    {
     "data": {
      "image/png": "[encoded data removed]",
      "text/plain": [
       "<Figure size 576x432 with 2 Axes>"
      ]
     },
     "metadata": {
      "needs_background": "light"
     },
     "output_type": "display_data"
    }
   ],
   "source": [
    "plt.figure(figsize=(8,6))\n",
    "mask=np.zeros_like(corr)\n",
    "mask[np.triu_indices_from(mask)]=True\n",
    "sns.heatmap(corr,annot=True,fmt='0.2f',mask=mask)\n",
    "plt.show()"
   ]
  },
  {
   "cell_type": "code",
   "execution_count": 8,
   "metadata": {},
   "outputs": [],
   "source": [
    "# consider numerical data for cal variance inflation factor\n",
    "num_col=data.dtypes[data.dtypes=='int64'].index"
   ]
  },
  {
   "cell_type": "code",
   "execution_count": 9,
   "metadata": {},
   "outputs": [
    {
     "data": {
      "text/plain": [
       "(8995, 6)"
      ]
     },
     "execution_count": 9,
     "metadata": {},
     "output_type": "execute_result"
    }
   ],
   "source": [
    "x_num=data[num_col]\n",
    "x_num.shape"
   ]
  },
  {
   "cell_type": "code",
   "execution_count": 10,
   "metadata": {},
   "outputs": [],
   "source": [
    "from statsmodels.stats.outliers_influence import variance_inflation_factor"
   ]
  },
  {
   "cell_type": "code",
   "execution_count": 11,
   "metadata": {},
   "outputs": [],
   "source": [
    "vif=pd.DataFrame()\n",
    "vif['Features']=x_num.keys()\n",
    "vif['VIF Score']=[variance_inflation_factor(x_num.values,i) for i in range(6)]"
   ]
  },
  {
   "cell_type": "code",
   "execution_count": 12,
   "metadata": {},
   "outputs": [
    {
     "data": {
      "text/html": [
       "<div>\n",
       "<style scoped>\n",
       "    .dataframe tbody tr th:only-of-type {\n",
       "        vertical-align: middle;\n",
       "    }\n",
       "\n",
       "    .dataframe tbody tr th {\n",
       "        vertical-align: top;\n",
       "    }\n",
       "\n",
       "    .dataframe thead th {\n",
       "        text-align: right;\n",
       "    }\n",
       "</style>\n",
       "<table border=\"1\" class=\"dataframe\">\n",
       "  <thead>\n",
       "    <tr style=\"text-align: right;\">\n",
       "      <th></th>\n",
       "      <th>Features</th>\n",
       "      <th>VIF Score</th>\n",
       "    </tr>\n",
       "  </thead>\n",
       "  <tbody>\n",
       "    <tr>\n",
       "      <th>0</th>\n",
       "      <td>SLNO</td>\n",
       "      <td>10.948187</td>\n",
       "    </tr>\n",
       "    <tr>\n",
       "      <th>1</th>\n",
       "      <td>Candidate.Ref</td>\n",
       "      <td>81.868311</td>\n",
       "    </tr>\n",
       "    <tr>\n",
       "      <th>2</th>\n",
       "      <td>Duration.to.accept.offer</td>\n",
       "      <td>1.953816</td>\n",
       "    </tr>\n",
       "    <tr>\n",
       "      <th>3</th>\n",
       "      <td>Notice.period</td>\n",
       "      <td>4.707560</td>\n",
       "    </tr>\n",
       "    <tr>\n",
       "      <th>4</th>\n",
       "      <td>Rex.in.Yrs</td>\n",
       "      <td>5.873765</td>\n",
       "    </tr>\n",
       "    <tr>\n",
       "      <th>5</th>\n",
       "      <td>Age</td>\n",
       "      <td>65.388797</td>\n",
       "    </tr>\n",
       "  </tbody>\n",
       "</table>\n",
       "</div>"
      ],
      "text/plain": [
       "                   Features  VIF Score\n",
       "0                      SLNO  10.948187\n",
       "1             Candidate.Ref  81.868311\n",
       "2  Duration.to.accept.offer   1.953816\n",
       "3             Notice.period   4.707560\n",
       "4                Rex.in.Yrs   5.873765\n",
       "5                       Age  65.388797"
      ]
     },
     "execution_count": 12,
     "metadata": {},
     "output_type": "execute_result"
    }
   ],
   "source": [
    "vif"
   ]
  },
  {
   "cell_type": "markdown",
   "metadata": {},
   "source": [
    "**4.0.1 Creating Dummy Features**"
   ]
  },
  {
   "cell_type": "code",
   "execution_count": 13,
   "metadata": {},
   "outputs": [
    {
     "data": {
      "text/html": [
       "<div>\n",
       "<style scoped>\n",
       "    .dataframe tbody tr th:only-of-type {\n",
       "        vertical-align: middle;\n",
       "    }\n",
       "\n",
       "    .dataframe tbody tr th {\n",
       "        vertical-align: top;\n",
       "    }\n",
       "\n",
       "    .dataframe thead th {\n",
       "        text-align: right;\n",
       "    }\n",
       "</style>\n",
       "<table border=\"1\" class=\"dataframe\">\n",
       "  <thead>\n",
       "    <tr style=\"text-align: right;\">\n",
       "      <th></th>\n",
       "      <th>SLNO</th>\n",
       "      <th>Candidate.Ref</th>\n",
       "      <th>Duration.to.accept.offer</th>\n",
       "      <th>Notice.period</th>\n",
       "      <th>Pecent.hike.expected.in.CTC</th>\n",
       "      <th>Percent.hike.offered.in.CTC</th>\n",
       "      <th>Percent.difference.CTC</th>\n",
       "      <th>Rex.in.Yrs</th>\n",
       "      <th>Age</th>\n",
       "      <th>DOJ.Extended_Yes</th>\n",
       "      <th>...</th>\n",
       "      <th>Location_Chennai</th>\n",
       "      <th>Location_Cochin</th>\n",
       "      <th>Location_Gurgaon</th>\n",
       "      <th>Location_Hyderabad</th>\n",
       "      <th>Location_Kolkata</th>\n",
       "      <th>Location_Mumbai</th>\n",
       "      <th>Location_Noida</th>\n",
       "      <th>Location_Others</th>\n",
       "      <th>Location_Pune</th>\n",
       "      <th>Status_Not Joined</th>\n",
       "    </tr>\n",
       "  </thead>\n",
       "  <tbody>\n",
       "    <tr>\n",
       "      <th>0</th>\n",
       "      <td>1</td>\n",
       "      <td>2110407</td>\n",
       "      <td>14</td>\n",
       "      <td>30</td>\n",
       "      <td>-20.79</td>\n",
       "      <td>13.16</td>\n",
       "      <td>42.86</td>\n",
       "      <td>7</td>\n",
       "      <td>34</td>\n",
       "      <td>1</td>\n",
       "      <td>...</td>\n",
       "      <td>0</td>\n",
       "      <td>0</td>\n",
       "      <td>0</td>\n",
       "      <td>0</td>\n",
       "      <td>0</td>\n",
       "      <td>0</td>\n",
       "      <td>1</td>\n",
       "      <td>0</td>\n",
       "      <td>0</td>\n",
       "      <td>0</td>\n",
       "    </tr>\n",
       "    <tr>\n",
       "      <th>1</th>\n",
       "      <td>2</td>\n",
       "      <td>2112635</td>\n",
       "      <td>18</td>\n",
       "      <td>30</td>\n",
       "      <td>50.00</td>\n",
       "      <td>320.00</td>\n",
       "      <td>180.00</td>\n",
       "      <td>8</td>\n",
       "      <td>34</td>\n",
       "      <td>0</td>\n",
       "      <td>...</td>\n",
       "      <td>1</td>\n",
       "      <td>0</td>\n",
       "      <td>0</td>\n",
       "      <td>0</td>\n",
       "      <td>0</td>\n",
       "      <td>0</td>\n",
       "      <td>0</td>\n",
       "      <td>0</td>\n",
       "      <td>0</td>\n",
       "      <td>0</td>\n",
       "    </tr>\n",
       "    <tr>\n",
       "      <th>2</th>\n",
       "      <td>3</td>\n",
       "      <td>2112838</td>\n",
       "      <td>3</td>\n",
       "      <td>45</td>\n",
       "      <td>42.84</td>\n",
       "      <td>42.84</td>\n",
       "      <td>0.00</td>\n",
       "      <td>4</td>\n",
       "      <td>27</td>\n",
       "      <td>0</td>\n",
       "      <td>...</td>\n",
       "      <td>0</td>\n",
       "      <td>0</td>\n",
       "      <td>0</td>\n",
       "      <td>0</td>\n",
       "      <td>0</td>\n",
       "      <td>0</td>\n",
       "      <td>1</td>\n",
       "      <td>0</td>\n",
       "      <td>0</td>\n",
       "      <td>0</td>\n",
       "    </tr>\n",
       "    <tr>\n",
       "      <th>3</th>\n",
       "      <td>4</td>\n",
       "      <td>2115021</td>\n",
       "      <td>26</td>\n",
       "      <td>30</td>\n",
       "      <td>42.84</td>\n",
       "      <td>42.84</td>\n",
       "      <td>0.00</td>\n",
       "      <td>4</td>\n",
       "      <td>34</td>\n",
       "      <td>0</td>\n",
       "      <td>...</td>\n",
       "      <td>0</td>\n",
       "      <td>0</td>\n",
       "      <td>0</td>\n",
       "      <td>0</td>\n",
       "      <td>0</td>\n",
       "      <td>0</td>\n",
       "      <td>1</td>\n",
       "      <td>0</td>\n",
       "      <td>0</td>\n",
       "      <td>0</td>\n",
       "    </tr>\n",
       "    <tr>\n",
       "      <th>4</th>\n",
       "      <td>5</td>\n",
       "      <td>2115125</td>\n",
       "      <td>1</td>\n",
       "      <td>120</td>\n",
       "      <td>42.59</td>\n",
       "      <td>42.59</td>\n",
       "      <td>0.00</td>\n",
       "      <td>6</td>\n",
       "      <td>34</td>\n",
       "      <td>1</td>\n",
       "      <td>...</td>\n",
       "      <td>0</td>\n",
       "      <td>0</td>\n",
       "      <td>0</td>\n",
       "      <td>0</td>\n",
       "      <td>0</td>\n",
       "      <td>0</td>\n",
       "      <td>1</td>\n",
       "      <td>0</td>\n",
       "      <td>0</td>\n",
       "      <td>0</td>\n",
       "    </tr>\n",
       "  </tbody>\n",
       "</table>\n",
       "<p>5 rows × 37 columns</p>\n",
       "</div>"
      ],
      "text/plain": [
       "   SLNO  Candidate.Ref  Duration.to.accept.offer  Notice.period  \\\n",
       "0     1        2110407                        14             30   \n",
       "1     2        2112635                        18             30   \n",
       "2     3        2112838                         3             45   \n",
       "3     4        2115021                        26             30   \n",
       "4     5        2115125                         1            120   \n",
       "\n",
       "   Pecent.hike.expected.in.CTC  Percent.hike.offered.in.CTC  \\\n",
       "0                       -20.79                        13.16   \n",
       "1                        50.00                       320.00   \n",
       "2                        42.84                        42.84   \n",
       "3                        42.84                        42.84   \n",
       "4                        42.59                        42.59   \n",
       "\n",
       "   Percent.difference.CTC  Rex.in.Yrs  Age  DOJ.Extended_Yes  ...  \\\n",
       "0                   42.86           7   34                 1  ...   \n",
       "1                  180.00           8   34                 0  ...   \n",
       "2                    0.00           4   27                 0  ...   \n",
       "3                    0.00           4   34                 0  ...   \n",
       "4                    0.00           6   34                 1  ...   \n",
       "\n",
       "   Location_Chennai  Location_Cochin  Location_Gurgaon  Location_Hyderabad  \\\n",
       "0                 0                0                 0                   0   \n",
       "1                 1                0                 0                   0   \n",
       "2                 0                0                 0                   0   \n",
       "3                 0                0                 0                   0   \n",
       "4                 0                0                 0                   0   \n",
       "\n",
       "   Location_Kolkata  Location_Mumbai  Location_Noida  Location_Others  \\\n",
       "0                 0                0               1                0   \n",
       "1                 0                0               0                0   \n",
       "2                 0                0               1                0   \n",
       "3                 0                0               1                0   \n",
       "4                 0                0               1                0   \n",
       "\n",
       "   Location_Pune  Status_Not Joined  \n",
       "0              0                  0  \n",
       "1              0                  0  \n",
       "2              0                  0  \n",
       "3              0                  0  \n",
       "4              0                  0  \n",
       "\n",
       "[5 rows x 37 columns]"
      ]
     },
     "execution_count": 13,
     "metadata": {},
     "output_type": "execute_result"
    }
   ],
   "source": [
    "data_num=pd.get_dummies(data,drop_first=True)\n",
    "data_num.head()"
   ]
  },
  {
   "cell_type": "markdown",
   "metadata": {},
   "source": [
    "**4.0.2 Feature Engineering**"
   ]
  },
  {
   "cell_type": "code",
   "execution_count": 14,
   "metadata": {},
   "outputs": [],
   "source": [
    "#splitting data into independent and dependent\n",
    "x=data_num.iloc[:,:-1] #independent\n",
    "y=data_num.iloc[:,-1]  #dependent"
   ]
  },
  {
   "cell_type": "code",
   "execution_count": 15,
   "metadata": {},
   "outputs": [
    {
     "data": {
      "text/plain": [
       "0    0.813007\n",
       "1    0.186993\n",
       "Name: Status_Not Joined, dtype: float64"
      ]
     },
     "execution_count": 15,
     "metadata": {},
     "output_type": "execute_result"
    }
   ],
   "source": [
    "y.value_counts()/len(y)"
   ]
  },
  {
   "cell_type": "markdown",
   "metadata": {},
   "source": [
    "**-The data is in imbalance state**"
   ]
  },
  {
   "cell_type": "code",
   "execution_count": 16,
   "metadata": {},
   "outputs": [],
   "source": [
    "import statsmodels.api as sm"
   ]
  },
  {
   "cell_type": "code",
   "execution_count": 17,
   "metadata": {},
   "outputs": [
    {
     "name": "stdout",
     "output_type": "stream",
     "text": [
      "                 Generalized Linear Model Regression Results                  \n",
      "==============================================================================\n",
      "Dep. Variable:      Status_Not Joined   No. Observations:                 8995\n",
      "Model:                            GLM   Df Residuals:                     8959\n",
      "Model Family:                Gaussian   Df Model:                           35\n",
      "Link Function:               identity   Scale:                         0.13752\n",
      "Method:                          IRLS   Log-Likelihood:                -3822.3\n",
      "Date:                Sat, 14 Mar 2020   Deviance:                       1232.0\n",
      "Time:                        19:39:18   Pearson chi2:                 1.23e+03\n",
      "No. Iterations:                     3   Covariance Type:             nonrobust\n",
      "======================================================================================================\n",
      "                                         coef    std err          z      P>|z|      [0.025      0.975]\n",
      "------------------------------------------------------------------------------------------------------\n",
      "SLNO                                -4.46e-06    2.7e-06     -1.649      0.099   -9.76e-06     8.4e-07\n",
      "Candidate.Ref                       3.366e-08   1.86e-08      1.807      0.071   -2.85e-09    7.02e-08\n",
      "Duration.to.accept.offer           -5.442e-05      0.000     -0.311      0.756      -0.000       0.000\n",
      "Notice.period                          0.0030      0.000     15.349      0.000       0.003       0.003\n",
      "Pecent.hike.expected.in.CTC            0.0004      0.001      0.756      0.449      -0.001       0.001\n",
      "Percent.hike.offered.in.CTC           -0.0006      0.001     -1.066      0.287      -0.002       0.000\n",
      "Percent.difference.CTC                 0.0003      0.001      0.407      0.684      -0.001       0.002\n",
      "Rex.in.Yrs                             0.0048      0.003      1.764      0.078      -0.001       0.010\n",
      "Age                                   -0.0042      0.001     -3.207      0.001      -0.007      -0.002\n",
      "DOJ.Extended_Yes                      -0.0294      0.009     -3.399      0.001      -0.046      -0.012\n",
      "Offered.band_E1                       -0.1429      0.028     -5.081      0.000      -0.198      -0.088\n",
      "Offered.band_E2                       -0.1255      0.031     -4.112      0.000      -0.185      -0.066\n",
      "Offered.band_E3                       -0.1622      0.038     -4.268      0.000      -0.237      -0.088\n",
      "Joining.Bonus_Yes                      0.0161      0.019      0.828      0.408      -0.022       0.054\n",
      "Candidate.relocate.actual_Yes         -0.2100      0.012    -18.208      0.000      -0.233      -0.187\n",
      "Gender_Male                            0.0217      0.011      2.045      0.041       0.001       0.042\n",
      "Candidate.Source_Direct               -0.0500      0.010     -5.214      0.000      -0.069      -0.031\n",
      "Candidate.Source_Employee Referral    -0.0887      0.012     -7.180      0.000      -0.113      -0.064\n",
      "LOB_BFSI                              -0.0525      0.020     -2.585      0.010      -0.092      -0.013\n",
      "LOB_CSMP                              -0.0457      0.023     -2.027      0.043      -0.090      -0.002\n",
      "LOB_EAS                                0.0355      0.026      1.347      0.178      -0.016       0.087\n",
      "LOB_ERS                               -0.0344      0.019     -1.824      0.068      -0.071       0.003\n",
      "LOB_ETS                               -0.0656      0.022     -3.036      0.002      -0.108      -0.023\n",
      "LOB_Healthcare                        -0.0834      0.037     -2.232      0.026      -0.157      -0.010\n",
      "LOB_INFRA                             -0.0969      0.020     -4.964      0.000      -0.135      -0.059\n",
      "LOB_MMS                               -0.2956      0.098     -3.030      0.002      -0.487      -0.104\n",
      "Location_Bangalore                     0.3770      0.056      6.718      0.000       0.267       0.487\n",
      "Location_Chennai                       0.3925      0.056      7.007      0.000       0.283       0.502\n",
      "Location_Cochin                        0.3597      0.143      2.511      0.012       0.079       0.641\n",
      "Location_Gurgaon                       0.3746      0.064      5.898      0.000       0.250       0.499\n",
      "Location_Hyderabad                     0.3692      0.059      6.287      0.000       0.254       0.484\n",
      "Location_Kolkata                       0.3806      0.063      6.048      0.000       0.257       0.504\n",
      "Location_Mumbai                        0.3353      0.063      5.342      0.000       0.212       0.458\n",
      "Location_Noida                         0.3411      0.055      6.160      0.000       0.233       0.450\n",
      "Location_Others                        0.2736      0.119      2.300      0.021       0.040       0.507\n",
      "Location_Pune                          0.3777      0.078      4.856      0.000       0.225       0.530\n",
      "======================================================================================================\n"
     ]
    }
   ],
   "source": [
    "model=sm.GLM(y,x).fit()\n",
    "print(model.summary()) #logistic regression...GLM stands for (generalized linear model)"
   ]
  },
  {
   "cell_type": "code",
   "execution_count": 18,
   "metadata": {},
   "outputs": [
    {
     "data": {
      "text/plain": [
       "Candidate.relocate.actual_Yes         4.476720e-74\n",
       "Notice.period                         3.569638e-53\n",
       "Candidate.Source_Employee Referral    6.950800e-13\n",
       "Location_Chennai                      2.428081e-12\n",
       "Location_Bangalore                    1.836981e-11\n",
       "Location_Hyderabad                    3.234541e-10\n",
       "Location_Noida                        7.290371e-10\n",
       "Location_Kolkata                      1.463496e-09\n",
       "Location_Gurgaon                      3.686728e-09\n",
       "Location_Mumbai                       9.206258e-08\n",
       "Candidate.Source_Direct               1.851964e-07\n",
       "Offered.band_E1                       3.757927e-07\n",
       "LOB_INFRA                             6.895900e-07\n",
       "Location_Pune                         1.194870e-06\n",
       "Offered.band_E3                       1.972042e-05\n",
       "Offered.band_E2                       3.917096e-05\n",
       "DOJ.Extended_Yes                      6.764918e-04\n",
       "Age                                   1.342747e-03\n",
       "LOB_ETS                               2.401145e-03\n",
       "LOB_MMS                               2.442059e-03\n",
       "LOB_BFSI                              9.732585e-03\n",
       "Location_Cochin                       1.205007e-02\n",
       "Location_Others                       2.146759e-02\n",
       "dtype: float64"
      ]
     },
     "execution_count": 18,
     "metadata": {},
     "output_type": "execute_result"
    }
   ],
   "source": [
    "features=model.pvalues.sort_values(ascending=True)\n",
    "features[features<0.025]"
   ]
  },
  {
   "cell_type": "code",
   "execution_count": 19,
   "metadata": {},
   "outputs": [],
   "source": [
    "selected_features=list(features[features<0.025].index)+ ['Status_Not Joined']"
   ]
  },
  {
   "cell_type": "markdown",
   "metadata": {},
   "source": [
    "**Selected Features**"
   ]
  },
  {
   "cell_type": "code",
   "execution_count": 20,
   "metadata": {},
   "outputs": [
    {
     "name": "stdout",
     "output_type": "stream",
     "text": [
      "['Candidate.relocate.actual_Yes', 'Notice.period', 'Candidate.Source_Employee Referral', 'Location_Chennai', 'Location_Bangalore', 'Location_Hyderabad', 'Location_Noida', 'Location_Kolkata', 'Location_Gurgaon', 'Location_Mumbai', 'Candidate.Source_Direct', 'Offered.band_E1', 'LOB_INFRA', 'Location_Pune', 'Offered.band_E3', 'Offered.band_E2', 'DOJ.Extended_Yes', 'Age', 'LOB_ETS', 'LOB_MMS', 'LOB_BFSI', 'Location_Cochin', 'Location_Others', 'Status_Not Joined']\n"
     ]
    }
   ],
   "source": [
    "print(selected_features)"
   ]
  },
  {
   "cell_type": "code",
   "execution_count": 21,
   "metadata": {},
   "outputs": [],
   "source": [
    "featured_data=data_num[selected_features]"
   ]
  },
  {
   "cell_type": "code",
   "execution_count": 22,
   "metadata": {},
   "outputs": [],
   "source": [
    "featured_data.to_csv(\"hrdata_features.csv\",index=False)"
   ]
  },
  {
   "cell_type": "code",
   "execution_count": null,
   "metadata": {},
   "outputs": [],
   "source": []
  }
 ],
 "metadata": {
  "kernelspec": {
   "display_name": "Python 3",
   "language": "python",
   "name": "python3"
  },
  "language_info": {
   "codemirror_mode": {
    "name": "ipython",
    "version": 3
   },
   "file_extension": ".py",
   "mimetype": "text/x-python",
   "name": "python",
   "nbconvert_exporter": "python",
   "pygments_lexer": "ipython3",
   "version": "3.7.3"
  }
 },
 "nbformat": 4,
 "nbformat_minor": 2
}
